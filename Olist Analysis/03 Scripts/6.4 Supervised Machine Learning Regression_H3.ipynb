{
 "cells": [
  {
   "cell_type": "markdown",
   "id": "99250073",
   "metadata": {},
   "source": [
    "# 01. Import libraries and data"
   ]
  },
  {
   "cell_type": "code",
   "execution_count": 1,
   "id": "ee716fe8",
   "metadata": {},
   "outputs": [],
   "source": [
    "import pandas as pd\n",
    "import numpy as np\n",
    "import seaborn as sns\n",
    "import matplotlib\n",
    "import matplotlib.pyplot as plt\n",
    "import os\n",
    "import sklearn\n",
    "from sklearn.model_selection import train_test_split \n",
    "from sklearn.linear_model import LinearRegression\n",
    "from sklearn.metrics import mean_squared_error, r2_score"
   ]
  },
  {
   "cell_type": "code",
   "execution_count": 2,
   "id": "f3936cef",
   "metadata": {},
   "outputs": [],
   "source": [
    "# This option ensures that the graphs you create are displayed within the notebook without the need to \"call\" them specifically.\n",
    "\n",
    "%matplotlib inline"
   ]
  },
  {
   "cell_type": "code",
   "execution_count": 3,
   "id": "1e695eb4",
   "metadata": {},
   "outputs": [],
   "source": [
    "# Define path\n",
    "\n",
    "path = r'C:\\Users\\carol\\Documents\\DA\\02 Data Inmersion\\06 Advanced Analytics & Dashboard Design\\Olist Analysis'"
   ]
  },
  {
   "cell_type": "code",
   "execution_count": 4,
   "id": "ed5e246e",
   "metadata": {},
   "outputs": [],
   "source": [
    "# Import data\n",
    "\n",
    "df = pd.read_csv(os.path.join(path, '02 Data', 'Prepared Data', 'items_final_all.csv'), index_col = False)"
   ]
  },
  {
   "cell_type": "code",
   "execution_count": 5,
   "id": "622a8915",
   "metadata": {},
   "outputs": [
    {
     "data": {
      "text/html": [
       "<div>\n",
       "<style scoped>\n",
       "    .dataframe tbody tr th:only-of-type {\n",
       "        vertical-align: middle;\n",
       "    }\n",
       "\n",
       "    .dataframe tbody tr th {\n",
       "        vertical-align: top;\n",
       "    }\n",
       "\n",
       "    .dataframe thead th {\n",
       "        text-align: right;\n",
       "    }\n",
       "</style>\n",
       "<table border=\"1\" class=\"dataframe\">\n",
       "  <thead>\n",
       "    <tr style=\"text-align: right;\">\n",
       "      <th></th>\n",
       "      <th>Unnamed: 0</th>\n",
       "      <th>order_id</th>\n",
       "      <th>order_item_count</th>\n",
       "      <th>product_id</th>\n",
       "      <th>seller_id</th>\n",
       "      <th>shipping_limit_date</th>\n",
       "      <th>item_price</th>\n",
       "      <th>item_shipping_cost</th>\n",
       "      <th>product_name_length</th>\n",
       "      <th>product_description_length</th>\n",
       "      <th>...</th>\n",
       "      <th>review_id</th>\n",
       "      <th>review_score</th>\n",
       "      <th>review_title</th>\n",
       "      <th>review_text</th>\n",
       "      <th>survey_sent_date</th>\n",
       "      <th>survey_submision_date</th>\n",
       "      <th>order_product_item_count</th>\n",
       "      <th>order_product</th>\n",
       "      <th>order_lead_time</th>\n",
       "      <th>order_days_delayed</th>\n",
       "    </tr>\n",
       "  </thead>\n",
       "  <tbody>\n",
       "    <tr>\n",
       "      <th>0</th>\n",
       "      <td>0</td>\n",
       "      <td>00010242fe8c5a6d1ba2dd792cb16214</td>\n",
       "      <td>1</td>\n",
       "      <td>4244733e06e7ecb4970a6e2683c13e61</td>\n",
       "      <td>48436dade18ac8b2bce089ec2a041202</td>\n",
       "      <td>2017-09-19 09:45:35</td>\n",
       "      <td>58.9</td>\n",
       "      <td>13.29</td>\n",
       "      <td>58</td>\n",
       "      <td>598</td>\n",
       "      <td>...</td>\n",
       "      <td>97ca439bc427b48bc1cd7177abe71365</td>\n",
       "      <td>5</td>\n",
       "      <td>NaN</td>\n",
       "      <td>Perfeito, produto entregue antes do combinado.</td>\n",
       "      <td>2017-09-21 00:00:00</td>\n",
       "      <td>2017-09-22 10:57:03</td>\n",
       "      <td>00010242fe8c5a6d1ba2dd792cb16214_4244733e06e7e...</td>\n",
       "      <td>00010242fe8c5a6d1ba2dd792cb16214_4244733e06e7e...</td>\n",
       "      <td>7.614421</td>\n",
       "      <td>-8.011250</td>\n",
       "    </tr>\n",
       "    <tr>\n",
       "      <th>1</th>\n",
       "      <td>1</td>\n",
       "      <td>130898c0987d1801452a8ed92a670612</td>\n",
       "      <td>1</td>\n",
       "      <td>4244733e06e7ecb4970a6e2683c13e61</td>\n",
       "      <td>48436dade18ac8b2bce089ec2a041202</td>\n",
       "      <td>2017-07-05 02:44:11</td>\n",
       "      <td>55.9</td>\n",
       "      <td>17.96</td>\n",
       "      <td>58</td>\n",
       "      <td>598</td>\n",
       "      <td>...</td>\n",
       "      <td>b11cba360bbe71410c291b764753d37f</td>\n",
       "      <td>5</td>\n",
       "      <td>NaN</td>\n",
       "      <td>lannister como sempre, entregou certinho e den...</td>\n",
       "      <td>2017-07-14 00:00:00</td>\n",
       "      <td>2017-07-17 12:50:07</td>\n",
       "      <td>130898c0987d1801452a8ed92a670612_4244733e06e7e...</td>\n",
       "      <td>130898c0987d1801452a8ed92a670612_4244733e06e7e...</td>\n",
       "      <td>15.366076</td>\n",
       "      <td>-12.139248</td>\n",
       "    </tr>\n",
       "    <tr>\n",
       "      <th>2</th>\n",
       "      <td>2</td>\n",
       "      <td>532ed5e14e24ae1f0d735b91524b98b9</td>\n",
       "      <td>1</td>\n",
       "      <td>4244733e06e7ecb4970a6e2683c13e61</td>\n",
       "      <td>48436dade18ac8b2bce089ec2a041202</td>\n",
       "      <td>2018-05-23 10:56:25</td>\n",
       "      <td>64.9</td>\n",
       "      <td>18.33</td>\n",
       "      <td>58</td>\n",
       "      <td>598</td>\n",
       "      <td>...</td>\n",
       "      <td>af01c4017c5ab46df6cc810e069e654a</td>\n",
       "      <td>4</td>\n",
       "      <td>super recomendo</td>\n",
       "      <td>carrinho muito bonito</td>\n",
       "      <td>2018-06-05 00:00:00</td>\n",
       "      <td>2018-06-06 21:41:12</td>\n",
       "      <td>532ed5e14e24ae1f0d735b91524b98b9_4244733e06e7e...</td>\n",
       "      <td>532ed5e14e24ae1f0d735b91524b98b9_4244733e06e7e...</td>\n",
       "      <td>17.339271</td>\n",
       "      <td>-2.226088</td>\n",
       "    </tr>\n",
       "    <tr>\n",
       "      <th>3</th>\n",
       "      <td>3</td>\n",
       "      <td>6f8c31653edb8c83e1a739408b5ff750</td>\n",
       "      <td>1</td>\n",
       "      <td>4244733e06e7ecb4970a6e2683c13e61</td>\n",
       "      <td>48436dade18ac8b2bce089ec2a041202</td>\n",
       "      <td>2017-08-07 18:55:08</td>\n",
       "      <td>58.9</td>\n",
       "      <td>16.17</td>\n",
       "      <td>58</td>\n",
       "      <td>598</td>\n",
       "      <td>...</td>\n",
       "      <td>8304ff37d8b16b57086fa283fe0c44f8</td>\n",
       "      <td>5</td>\n",
       "      <td>NaN</td>\n",
       "      <td>NaN</td>\n",
       "      <td>2017-08-10 00:00:00</td>\n",
       "      <td>2017-08-13 03:35:17</td>\n",
       "      <td>6f8c31653edb8c83e1a739408b5ff750_4244733e06e7e...</td>\n",
       "      <td>6f8c31653edb8c83e1a739408b5ff750_4244733e06e7e...</td>\n",
       "      <td>8.116563</td>\n",
       "      <td>-15.106563</td>\n",
       "    </tr>\n",
       "    <tr>\n",
       "      <th>4</th>\n",
       "      <td>4</td>\n",
       "      <td>7d19f4ef4d04461989632411b7e588b9</td>\n",
       "      <td>1</td>\n",
       "      <td>4244733e06e7ecb4970a6e2683c13e61</td>\n",
       "      <td>48436dade18ac8b2bce089ec2a041202</td>\n",
       "      <td>2017-08-16 22:05:11</td>\n",
       "      <td>58.9</td>\n",
       "      <td>13.29</td>\n",
       "      <td>58</td>\n",
       "      <td>598</td>\n",
       "      <td>...</td>\n",
       "      <td>426f43a82185969503fb3c86241a9535</td>\n",
       "      <td>5</td>\n",
       "      <td>NaN</td>\n",
       "      <td>NaN</td>\n",
       "      <td>2017-08-25 00:00:00</td>\n",
       "      <td>2017-08-28 00:51:18</td>\n",
       "      <td>7d19f4ef4d04461989632411b7e588b9_4244733e06e7e...</td>\n",
       "      <td>7d19f4ef4d04461989632411b7e588b9_4244733e06e7e...</td>\n",
       "      <td>13.927558</td>\n",
       "      <td>-7.163646</td>\n",
       "    </tr>\n",
       "  </tbody>\n",
       "</table>\n",
       "<p>5 rows × 44 columns</p>\n",
       "</div>"
      ],
      "text/plain": [
       "   Unnamed: 0                          order_id  order_item_count  \\\n",
       "0           0  00010242fe8c5a6d1ba2dd792cb16214                 1   \n",
       "1           1  130898c0987d1801452a8ed92a670612                 1   \n",
       "2           2  532ed5e14e24ae1f0d735b91524b98b9                 1   \n",
       "3           3  6f8c31653edb8c83e1a739408b5ff750                 1   \n",
       "4           4  7d19f4ef4d04461989632411b7e588b9                 1   \n",
       "\n",
       "                         product_id                         seller_id  \\\n",
       "0  4244733e06e7ecb4970a6e2683c13e61  48436dade18ac8b2bce089ec2a041202   \n",
       "1  4244733e06e7ecb4970a6e2683c13e61  48436dade18ac8b2bce089ec2a041202   \n",
       "2  4244733e06e7ecb4970a6e2683c13e61  48436dade18ac8b2bce089ec2a041202   \n",
       "3  4244733e06e7ecb4970a6e2683c13e61  48436dade18ac8b2bce089ec2a041202   \n",
       "4  4244733e06e7ecb4970a6e2683c13e61  48436dade18ac8b2bce089ec2a041202   \n",
       "\n",
       "   shipping_limit_date  item_price  item_shipping_cost  product_name_length  \\\n",
       "0  2017-09-19 09:45:35        58.9               13.29                   58   \n",
       "1  2017-07-05 02:44:11        55.9               17.96                   58   \n",
       "2  2018-05-23 10:56:25        64.9               18.33                   58   \n",
       "3  2017-08-07 18:55:08        58.9               16.17                   58   \n",
       "4  2017-08-16 22:05:11        58.9               13.29                   58   \n",
       "\n",
       "   product_description_length  ...                         review_id  \\\n",
       "0                         598  ...  97ca439bc427b48bc1cd7177abe71365   \n",
       "1                         598  ...  b11cba360bbe71410c291b764753d37f   \n",
       "2                         598  ...  af01c4017c5ab46df6cc810e069e654a   \n",
       "3                         598  ...  8304ff37d8b16b57086fa283fe0c44f8   \n",
       "4                         598  ...  426f43a82185969503fb3c86241a9535   \n",
       "\n",
       "   review_score     review_title  \\\n",
       "0             5              NaN   \n",
       "1             5              NaN   \n",
       "2             4  super recomendo   \n",
       "3             5              NaN   \n",
       "4             5              NaN   \n",
       "\n",
       "                                         review_text     survey_sent_date  \\\n",
       "0     Perfeito, produto entregue antes do combinado.  2017-09-21 00:00:00   \n",
       "1  lannister como sempre, entregou certinho e den...  2017-07-14 00:00:00   \n",
       "2                              carrinho muito bonito  2018-06-05 00:00:00   \n",
       "3                                                NaN  2017-08-10 00:00:00   \n",
       "4                                                NaN  2017-08-25 00:00:00   \n",
       "\n",
       "  survey_submision_date                           order_product_item_count  \\\n",
       "0   2017-09-22 10:57:03  00010242fe8c5a6d1ba2dd792cb16214_4244733e06e7e...   \n",
       "1   2017-07-17 12:50:07  130898c0987d1801452a8ed92a670612_4244733e06e7e...   \n",
       "2   2018-06-06 21:41:12  532ed5e14e24ae1f0d735b91524b98b9_4244733e06e7e...   \n",
       "3   2017-08-13 03:35:17  6f8c31653edb8c83e1a739408b5ff750_4244733e06e7e...   \n",
       "4   2017-08-28 00:51:18  7d19f4ef4d04461989632411b7e588b9_4244733e06e7e...   \n",
       "\n",
       "                                       order_product order_lead_time  \\\n",
       "0  00010242fe8c5a6d1ba2dd792cb16214_4244733e06e7e...        7.614421   \n",
       "1  130898c0987d1801452a8ed92a670612_4244733e06e7e...       15.366076   \n",
       "2  532ed5e14e24ae1f0d735b91524b98b9_4244733e06e7e...       17.339271   \n",
       "3  6f8c31653edb8c83e1a739408b5ff750_4244733e06e7e...        8.116563   \n",
       "4  7d19f4ef4d04461989632411b7e588b9_4244733e06e7e...       13.927558   \n",
       "\n",
       "  order_days_delayed  \n",
       "0          -8.011250  \n",
       "1         -12.139248  \n",
       "2          -2.226088  \n",
       "3         -15.106563  \n",
       "4          -7.163646  \n",
       "\n",
       "[5 rows x 44 columns]"
      ]
     },
     "execution_count": 5,
     "metadata": {},
     "output_type": "execute_result"
    }
   ],
   "source": [
    "# Check dataset\n",
    "\n",
    "df.head()"
   ]
  },
  {
   "cell_type": "markdown",
   "id": "843753b7",
   "metadata": {},
   "source": [
    "# 02. Create new table with product characteristics"
   ]
  },
  {
   "cell_type": "code",
   "execution_count": 6,
   "id": "7d735cf8",
   "metadata": {},
   "outputs": [],
   "source": [
    "# Create new table with product characteristics\n",
    "\n",
    "df_product = df.groupby(['product_id']).agg({'item_price': ['mean'],'item_shipping_cost': ['mean'],'product_weight_g': ['mean'],'product_length_cm': ['mean'],'product_height_cm': ['mean'],'product_width_cm': ['mean']})"
   ]
  },
  {
   "cell_type": "code",
   "execution_count": 7,
   "id": "4aeabfee",
   "metadata": {},
   "outputs": [
    {
     "data": {
      "text/html": [
       "<div>\n",
       "<style scoped>\n",
       "    .dataframe tbody tr th:only-of-type {\n",
       "        vertical-align: middle;\n",
       "    }\n",
       "\n",
       "    .dataframe tbody tr th {\n",
       "        vertical-align: top;\n",
       "    }\n",
       "\n",
       "    .dataframe thead tr th {\n",
       "        text-align: left;\n",
       "    }\n",
       "\n",
       "    .dataframe thead tr:last-of-type th {\n",
       "        text-align: right;\n",
       "    }\n",
       "</style>\n",
       "<table border=\"1\" class=\"dataframe\">\n",
       "  <thead>\n",
       "    <tr>\n",
       "      <th></th>\n",
       "      <th>item_price</th>\n",
       "      <th>item_shipping_cost</th>\n",
       "      <th>product_weight_g</th>\n",
       "      <th>product_length_cm</th>\n",
       "      <th>product_height_cm</th>\n",
       "      <th>product_width_cm</th>\n",
       "    </tr>\n",
       "    <tr>\n",
       "      <th></th>\n",
       "      <th>mean</th>\n",
       "      <th>mean</th>\n",
       "      <th>mean</th>\n",
       "      <th>mean</th>\n",
       "      <th>mean</th>\n",
       "      <th>mean</th>\n",
       "    </tr>\n",
       "    <tr>\n",
       "      <th>product_id</th>\n",
       "      <th></th>\n",
       "      <th></th>\n",
       "      <th></th>\n",
       "      <th></th>\n",
       "      <th></th>\n",
       "      <th></th>\n",
       "    </tr>\n",
       "  </thead>\n",
       "  <tbody>\n",
       "    <tr>\n",
       "      <th>00066f42aeeb9f3007548bb9d3f33c38</th>\n",
       "      <td>101.65</td>\n",
       "      <td>18.59</td>\n",
       "      <td>300.0</td>\n",
       "      <td>20.0</td>\n",
       "      <td>16.0</td>\n",
       "      <td>16.0</td>\n",
       "    </tr>\n",
       "    <tr>\n",
       "      <th>00088930e925c41fd95ebfe695fd2655</th>\n",
       "      <td>129.90</td>\n",
       "      <td>13.93</td>\n",
       "      <td>1225.0</td>\n",
       "      <td>55.0</td>\n",
       "      <td>10.0</td>\n",
       "      <td>26.0</td>\n",
       "    </tr>\n",
       "    <tr>\n",
       "      <th>0009406fd7479715e4bef61dd91f2462</th>\n",
       "      <td>229.00</td>\n",
       "      <td>13.10</td>\n",
       "      <td>300.0</td>\n",
       "      <td>45.0</td>\n",
       "      <td>15.0</td>\n",
       "      <td>35.0</td>\n",
       "    </tr>\n",
       "    <tr>\n",
       "      <th>000b8f95fcb9e0096488278317764d19</th>\n",
       "      <td>58.90</td>\n",
       "      <td>19.60</td>\n",
       "      <td>550.0</td>\n",
       "      <td>19.0</td>\n",
       "      <td>24.0</td>\n",
       "      <td>12.0</td>\n",
       "    </tr>\n",
       "    <tr>\n",
       "      <th>000d9be29b5207b54e86aa1b1ac54872</th>\n",
       "      <td>199.00</td>\n",
       "      <td>19.27</td>\n",
       "      <td>250.0</td>\n",
       "      <td>22.0</td>\n",
       "      <td>11.0</td>\n",
       "      <td>15.0</td>\n",
       "    </tr>\n",
       "  </tbody>\n",
       "</table>\n",
       "</div>"
      ],
      "text/plain": [
       "                                 item_price item_shipping_cost  \\\n",
       "                                       mean               mean   \n",
       "product_id                                                       \n",
       "00066f42aeeb9f3007548bb9d3f33c38     101.65              18.59   \n",
       "00088930e925c41fd95ebfe695fd2655     129.90              13.93   \n",
       "0009406fd7479715e4bef61dd91f2462     229.00              13.10   \n",
       "000b8f95fcb9e0096488278317764d19      58.90              19.60   \n",
       "000d9be29b5207b54e86aa1b1ac54872     199.00              19.27   \n",
       "\n",
       "                                 product_weight_g product_length_cm  \\\n",
       "                                             mean              mean   \n",
       "product_id                                                            \n",
       "00066f42aeeb9f3007548bb9d3f33c38            300.0              20.0   \n",
       "00088930e925c41fd95ebfe695fd2655           1225.0              55.0   \n",
       "0009406fd7479715e4bef61dd91f2462            300.0              45.0   \n",
       "000b8f95fcb9e0096488278317764d19            550.0              19.0   \n",
       "000d9be29b5207b54e86aa1b1ac54872            250.0              22.0   \n",
       "\n",
       "                                 product_height_cm product_width_cm  \n",
       "                                              mean             mean  \n",
       "product_id                                                           \n",
       "00066f42aeeb9f3007548bb9d3f33c38              16.0             16.0  \n",
       "00088930e925c41fd95ebfe695fd2655              10.0             26.0  \n",
       "0009406fd7479715e4bef61dd91f2462              15.0             35.0  \n",
       "000b8f95fcb9e0096488278317764d19              24.0             12.0  \n",
       "000d9be29b5207b54e86aa1b1ac54872              11.0             15.0  "
      ]
     },
     "execution_count": 7,
     "metadata": {},
     "output_type": "execute_result"
    }
   ],
   "source": [
    "df_product.head()"
   ]
  },
  {
   "cell_type": "code",
   "execution_count": 8,
   "id": "5651c296",
   "metadata": {},
   "outputs": [],
   "source": [
    "# Export new dataset\n",
    "\n",
    "df_product.to_csv(os.path.join(path, '02 Data','Prepared Data', 'products.csv'))"
   ]
  },
  {
   "cell_type": "code",
   "execution_count": 9,
   "id": "ecf77775",
   "metadata": {},
   "outputs": [],
   "source": [
    "# Import data\n",
    "\n",
    "df_product = pd.read_csv(os.path.join(path, '02 Data', 'Prepared Data', 'products.csv'), index_col = False)"
   ]
  },
  {
   "cell_type": "code",
   "execution_count": 10,
   "id": "e074982f",
   "metadata": {},
   "outputs": [
    {
     "data": {
      "text/html": [
       "<div>\n",
       "<style scoped>\n",
       "    .dataframe tbody tr th:only-of-type {\n",
       "        vertical-align: middle;\n",
       "    }\n",
       "\n",
       "    .dataframe tbody tr th {\n",
       "        vertical-align: top;\n",
       "    }\n",
       "\n",
       "    .dataframe thead th {\n",
       "        text-align: right;\n",
       "    }\n",
       "</style>\n",
       "<table border=\"1\" class=\"dataframe\">\n",
       "  <thead>\n",
       "    <tr style=\"text-align: right;\">\n",
       "      <th></th>\n",
       "      <th>Unnamed: 0</th>\n",
       "      <th>item_price</th>\n",
       "      <th>item_shipping_cost</th>\n",
       "      <th>product_weight_g</th>\n",
       "      <th>product_length_cm</th>\n",
       "      <th>product_height_cm</th>\n",
       "      <th>product_width_cm</th>\n",
       "    </tr>\n",
       "  </thead>\n",
       "  <tbody>\n",
       "    <tr>\n",
       "      <th>0</th>\n",
       "      <td>NaN</td>\n",
       "      <td>mean</td>\n",
       "      <td>mean</td>\n",
       "      <td>mean</td>\n",
       "      <td>mean</td>\n",
       "      <td>mean</td>\n",
       "      <td>mean</td>\n",
       "    </tr>\n",
       "    <tr>\n",
       "      <th>1</th>\n",
       "      <td>product_id</td>\n",
       "      <td>NaN</td>\n",
       "      <td>NaN</td>\n",
       "      <td>NaN</td>\n",
       "      <td>NaN</td>\n",
       "      <td>NaN</td>\n",
       "      <td>NaN</td>\n",
       "    </tr>\n",
       "    <tr>\n",
       "      <th>2</th>\n",
       "      <td>00066f42aeeb9f3007548bb9d3f33c38</td>\n",
       "      <td>101.65</td>\n",
       "      <td>18.59</td>\n",
       "      <td>300.0</td>\n",
       "      <td>20.0</td>\n",
       "      <td>16.0</td>\n",
       "      <td>16.0</td>\n",
       "    </tr>\n",
       "    <tr>\n",
       "      <th>3</th>\n",
       "      <td>00088930e925c41fd95ebfe695fd2655</td>\n",
       "      <td>129.9</td>\n",
       "      <td>13.93</td>\n",
       "      <td>1225.0</td>\n",
       "      <td>55.0</td>\n",
       "      <td>10.0</td>\n",
       "      <td>26.0</td>\n",
       "    </tr>\n",
       "    <tr>\n",
       "      <th>4</th>\n",
       "      <td>0009406fd7479715e4bef61dd91f2462</td>\n",
       "      <td>229.0</td>\n",
       "      <td>13.1</td>\n",
       "      <td>300.0</td>\n",
       "      <td>45.0</td>\n",
       "      <td>15.0</td>\n",
       "      <td>35.0</td>\n",
       "    </tr>\n",
       "  </tbody>\n",
       "</table>\n",
       "</div>"
      ],
      "text/plain": [
       "                         Unnamed: 0 item_price item_shipping_cost  \\\n",
       "0                               NaN       mean               mean   \n",
       "1                        product_id        NaN                NaN   \n",
       "2  00066f42aeeb9f3007548bb9d3f33c38     101.65              18.59   \n",
       "3  00088930e925c41fd95ebfe695fd2655      129.9              13.93   \n",
       "4  0009406fd7479715e4bef61dd91f2462      229.0               13.1   \n",
       "\n",
       "  product_weight_g product_length_cm product_height_cm product_width_cm  \n",
       "0             mean              mean              mean             mean  \n",
       "1              NaN               NaN               NaN              NaN  \n",
       "2            300.0              20.0              16.0             16.0  \n",
       "3           1225.0              55.0              10.0             26.0  \n",
       "4            300.0              45.0              15.0             35.0  "
      ]
     },
     "execution_count": 10,
     "metadata": {},
     "output_type": "execute_result"
    }
   ],
   "source": [
    "# Check dataset\n",
    "\n",
    "df_product.head()"
   ]
  },
  {
   "cell_type": "code",
   "execution_count": 11,
   "id": "c9419dcc",
   "metadata": {},
   "outputs": [],
   "source": [
    "# Rename column\n",
    "\n",
    "df_product.rename(columns = {'Unnamed: 0' : 'product_id'}, inplace = True)"
   ]
  },
  {
   "cell_type": "code",
   "execution_count": 12,
   "id": "ee0f169f",
   "metadata": {},
   "outputs": [],
   "source": [
    "# Drop rows\n",
    "\n",
    "df_product = df_product.drop([0, 1])"
   ]
  },
  {
   "cell_type": "code",
   "execution_count": 13,
   "id": "29d4e0e5",
   "metadata": {},
   "outputs": [
    {
     "data": {
      "text/html": [
       "<div>\n",
       "<style scoped>\n",
       "    .dataframe tbody tr th:only-of-type {\n",
       "        vertical-align: middle;\n",
       "    }\n",
       "\n",
       "    .dataframe tbody tr th {\n",
       "        vertical-align: top;\n",
       "    }\n",
       "\n",
       "    .dataframe thead th {\n",
       "        text-align: right;\n",
       "    }\n",
       "</style>\n",
       "<table border=\"1\" class=\"dataframe\">\n",
       "  <thead>\n",
       "    <tr style=\"text-align: right;\">\n",
       "      <th></th>\n",
       "      <th>product_id</th>\n",
       "      <th>item_price</th>\n",
       "      <th>item_shipping_cost</th>\n",
       "      <th>product_weight_g</th>\n",
       "      <th>product_length_cm</th>\n",
       "      <th>product_height_cm</th>\n",
       "      <th>product_width_cm</th>\n",
       "    </tr>\n",
       "  </thead>\n",
       "  <tbody>\n",
       "    <tr>\n",
       "      <th>0</th>\n",
       "      <td>00066f42aeeb9f3007548bb9d3f33c38</td>\n",
       "      <td>101.65</td>\n",
       "      <td>18.59</td>\n",
       "      <td>300.0</td>\n",
       "      <td>20.0</td>\n",
       "      <td>16.0</td>\n",
       "      <td>16.0</td>\n",
       "    </tr>\n",
       "    <tr>\n",
       "      <th>1</th>\n",
       "      <td>00088930e925c41fd95ebfe695fd2655</td>\n",
       "      <td>129.9</td>\n",
       "      <td>13.93</td>\n",
       "      <td>1225.0</td>\n",
       "      <td>55.0</td>\n",
       "      <td>10.0</td>\n",
       "      <td>26.0</td>\n",
       "    </tr>\n",
       "    <tr>\n",
       "      <th>2</th>\n",
       "      <td>0009406fd7479715e4bef61dd91f2462</td>\n",
       "      <td>229.0</td>\n",
       "      <td>13.1</td>\n",
       "      <td>300.0</td>\n",
       "      <td>45.0</td>\n",
       "      <td>15.0</td>\n",
       "      <td>35.0</td>\n",
       "    </tr>\n",
       "    <tr>\n",
       "      <th>3</th>\n",
       "      <td>000b8f95fcb9e0096488278317764d19</td>\n",
       "      <td>58.9</td>\n",
       "      <td>19.6</td>\n",
       "      <td>550.0</td>\n",
       "      <td>19.0</td>\n",
       "      <td>24.0</td>\n",
       "      <td>12.0</td>\n",
       "    </tr>\n",
       "    <tr>\n",
       "      <th>4</th>\n",
       "      <td>000d9be29b5207b54e86aa1b1ac54872</td>\n",
       "      <td>199.0</td>\n",
       "      <td>19.27</td>\n",
       "      <td>250.0</td>\n",
       "      <td>22.0</td>\n",
       "      <td>11.0</td>\n",
       "      <td>15.0</td>\n",
       "    </tr>\n",
       "    <tr>\n",
       "      <th>...</th>\n",
       "      <td>...</td>\n",
       "      <td>...</td>\n",
       "      <td>...</td>\n",
       "      <td>...</td>\n",
       "      <td>...</td>\n",
       "      <td>...</td>\n",
       "      <td>...</td>\n",
       "    </tr>\n",
       "    <tr>\n",
       "      <th>32179</th>\n",
       "      <td>fff6177642830a9a94a0f2cba5e476d1</td>\n",
       "      <td>114.99</td>\n",
       "      <td>27.705</td>\n",
       "      <td>1400.0</td>\n",
       "      <td>42.0</td>\n",
       "      <td>25.0</td>\n",
       "      <td>15.0</td>\n",
       "    </tr>\n",
       "    <tr>\n",
       "      <th>32180</th>\n",
       "      <td>fff81cc3158d2725c0655ab9ba0f712c</td>\n",
       "      <td>90.0</td>\n",
       "      <td>7.89</td>\n",
       "      <td>58.0</td>\n",
       "      <td>16.0</td>\n",
       "      <td>16.0</td>\n",
       "      <td>11.0</td>\n",
       "    </tr>\n",
       "    <tr>\n",
       "      <th>32181</th>\n",
       "      <td>fff9553ac224cec9d15d49f5a263411f</td>\n",
       "      <td>32.0</td>\n",
       "      <td>11.85</td>\n",
       "      <td>150.0</td>\n",
       "      <td>16.0</td>\n",
       "      <td>13.0</td>\n",
       "      <td>11.0</td>\n",
       "    </tr>\n",
       "    <tr>\n",
       "      <th>32182</th>\n",
       "      <td>fffdb2d0ec8d6a61f0a0a0db3f25b441</td>\n",
       "      <td>33.989999999999995</td>\n",
       "      <td>11.774</td>\n",
       "      <td>150.0</td>\n",
       "      <td>16.0</td>\n",
       "      <td>4.0</td>\n",
       "      <td>13.0</td>\n",
       "    </tr>\n",
       "    <tr>\n",
       "      <th>32183</th>\n",
       "      <td>fffe9eeff12fcbd74a2f2b007dde0c58</td>\n",
       "      <td>249.99</td>\n",
       "      <td>53.88</td>\n",
       "      <td>3900.0</td>\n",
       "      <td>43.0</td>\n",
       "      <td>16.0</td>\n",
       "      <td>11.0</td>\n",
       "    </tr>\n",
       "  </tbody>\n",
       "</table>\n",
       "<p>32184 rows × 7 columns</p>\n",
       "</div>"
      ],
      "text/plain": [
       "                             product_id          item_price  \\\n",
       "0      00066f42aeeb9f3007548bb9d3f33c38              101.65   \n",
       "1      00088930e925c41fd95ebfe695fd2655               129.9   \n",
       "2      0009406fd7479715e4bef61dd91f2462               229.0   \n",
       "3      000b8f95fcb9e0096488278317764d19                58.9   \n",
       "4      000d9be29b5207b54e86aa1b1ac54872               199.0   \n",
       "...                                 ...                 ...   \n",
       "32179  fff6177642830a9a94a0f2cba5e476d1              114.99   \n",
       "32180  fff81cc3158d2725c0655ab9ba0f712c                90.0   \n",
       "32181  fff9553ac224cec9d15d49f5a263411f                32.0   \n",
       "32182  fffdb2d0ec8d6a61f0a0a0db3f25b441  33.989999999999995   \n",
       "32183  fffe9eeff12fcbd74a2f2b007dde0c58              249.99   \n",
       "\n",
       "      item_shipping_cost product_weight_g product_length_cm product_height_cm  \\\n",
       "0                  18.59            300.0              20.0              16.0   \n",
       "1                  13.93           1225.0              55.0              10.0   \n",
       "2                   13.1            300.0              45.0              15.0   \n",
       "3                   19.6            550.0              19.0              24.0   \n",
       "4                  19.27            250.0              22.0              11.0   \n",
       "...                  ...              ...               ...               ...   \n",
       "32179             27.705           1400.0              42.0              25.0   \n",
       "32180               7.89             58.0              16.0              16.0   \n",
       "32181              11.85            150.0              16.0              13.0   \n",
       "32182             11.774            150.0              16.0               4.0   \n",
       "32183              53.88           3900.0              43.0              16.0   \n",
       "\n",
       "      product_width_cm  \n",
       "0                 16.0  \n",
       "1                 26.0  \n",
       "2                 35.0  \n",
       "3                 12.0  \n",
       "4                 15.0  \n",
       "...                ...  \n",
       "32179             15.0  \n",
       "32180             11.0  \n",
       "32181             11.0  \n",
       "32182             13.0  \n",
       "32183             11.0  \n",
       "\n",
       "[32184 rows x 7 columns]"
      ]
     },
     "execution_count": 13,
     "metadata": {},
     "output_type": "execute_result"
    }
   ],
   "source": [
    "# Drop and reset index\n",
    "\n",
    "df_product.reset_index(drop=True)"
   ]
  },
  {
   "cell_type": "code",
   "execution_count": 14,
   "id": "0e453955",
   "metadata": {},
   "outputs": [],
   "source": [
    "# Export new dataset\n",
    "\n",
    "df_product.to_csv(os.path.join(path, '02 Data','Prepared Data', 'products_final.csv'))"
   ]
  },
  {
   "cell_type": "code",
   "execution_count": 15,
   "id": "a9da6fc3",
   "metadata": {},
   "outputs": [],
   "source": [
    "# Import data\n",
    "\n",
    "df = pd.read_csv(os.path.join(path, '02 Data', 'Prepared Data', 'products_final.csv'), index_col = False)"
   ]
  },
  {
   "cell_type": "markdown",
   "id": "2d100036",
   "metadata": {},
   "source": [
    "# 03. Data wrangling"
   ]
  },
  {
   "cell_type": "code",
   "execution_count": 16,
   "id": "c87bcfc6",
   "metadata": {},
   "outputs": [
    {
     "name": "stdout",
     "output_type": "stream",
     "text": [
      "<class 'pandas.core.frame.DataFrame'>\n",
      "RangeIndex: 32184 entries, 0 to 32183\n",
      "Data columns (total 8 columns):\n",
      " #   Column              Non-Null Count  Dtype  \n",
      "---  ------              --------------  -----  \n",
      " 0   Unnamed: 0          32184 non-null  int64  \n",
      " 1   product_id          32184 non-null  object \n",
      " 2   item_price          32184 non-null  float64\n",
      " 3   item_shipping_cost  32184 non-null  float64\n",
      " 4   product_weight_g    32183 non-null  float64\n",
      " 5   product_length_cm   32183 non-null  float64\n",
      " 6   product_height_cm   32183 non-null  float64\n",
      " 7   product_width_cm    32183 non-null  float64\n",
      "dtypes: float64(6), int64(1), object(1)\n",
      "memory usage: 2.0+ MB\n"
     ]
    }
   ],
   "source": [
    "df.info()"
   ]
  },
  {
   "cell_type": "code",
   "execution_count": 17,
   "id": "7c9a24c8",
   "metadata": {},
   "outputs": [],
   "source": [
    "# Drop columns\n",
    "\n",
    "df = df.drop(columns = ['Unnamed: 0'])"
   ]
  },
  {
   "cell_type": "markdown",
   "id": "9e50c8df",
   "metadata": {},
   "source": [
    "# 04.Data cleaning"
   ]
  },
  {
   "cell_type": "code",
   "execution_count": 18,
   "id": "a581153e",
   "metadata": {},
   "outputs": [
    {
     "data": {
      "text/plain": [
       "Index(['product_id', 'item_price', 'item_shipping_cost', 'product_weight_g',\n",
       "       'product_length_cm', 'product_height_cm', 'product_width_cm'],\n",
       "      dtype='object')"
      ]
     },
     "execution_count": 18,
     "metadata": {},
     "output_type": "execute_result"
    }
   ],
   "source": [
    "df.columns"
   ]
  },
  {
   "cell_type": "code",
   "execution_count": 19,
   "id": "0bbcbba0",
   "metadata": {},
   "outputs": [
    {
     "data": {
      "text/plain": [
       "(32184, 7)"
      ]
     },
     "execution_count": 19,
     "metadata": {},
     "output_type": "execute_result"
    }
   ],
   "source": [
    "df.shape"
   ]
  },
  {
   "cell_type": "markdown",
   "id": "f9d0b697",
   "metadata": {},
   "source": [
    "## Missing values"
   ]
  },
  {
   "cell_type": "code",
   "execution_count": 20,
   "id": "2f0091ca",
   "metadata": {},
   "outputs": [
    {
     "data": {
      "text/plain": [
       "product_id            0\n",
       "item_price            0\n",
       "item_shipping_cost    0\n",
       "product_weight_g      1\n",
       "product_length_cm     1\n",
       "product_height_cm     1\n",
       "product_width_cm      1\n",
       "dtype: int64"
      ]
     },
     "execution_count": 20,
     "metadata": {},
     "output_type": "execute_result"
    }
   ],
   "source": [
    "# Check for missing values\n",
    "\n",
    "df.isnull().sum()\n",
    "\n",
    "# No missing values to handle"
   ]
  },
  {
   "cell_type": "code",
   "execution_count": 21,
   "id": "94c5a8ad",
   "metadata": {},
   "outputs": [],
   "source": [
    "# Drop row with missing value\n",
    "\n",
    "df = df.dropna()"
   ]
  },
  {
   "cell_type": "markdown",
   "id": "94e55753",
   "metadata": {},
   "source": [
    "## Duplicates check"
   ]
  },
  {
   "cell_type": "code",
   "execution_count": 22,
   "id": "54813eb0",
   "metadata": {},
   "outputs": [],
   "source": [
    "dups = df.duplicated()"
   ]
  },
  {
   "cell_type": "code",
   "execution_count": 23,
   "id": "e59cbef9",
   "metadata": {},
   "outputs": [
    {
     "data": {
      "text/plain": [
       "(32183,)"
      ]
     },
     "execution_count": 23,
     "metadata": {},
     "output_type": "execute_result"
    }
   ],
   "source": [
    "dups.shape # No dups"
   ]
  },
  {
   "cell_type": "markdown",
   "id": "a8d4e711",
   "metadata": {},
   "source": [
    "## Extreme values checks"
   ]
  },
  {
   "cell_type": "code",
   "execution_count": 24,
   "id": "f23357b0",
   "metadata": {},
   "outputs": [
    {
     "name": "stderr",
     "output_type": "stream",
     "text": [
      "C:\\Users\\carol\\AppData\\Local\\Temp\\ipykernel_12716\\2025888454.py:1: UserWarning: \n",
      "\n",
      "`distplot` is a deprecated function and will be removed in seaborn v0.14.0.\n",
      "\n",
      "Please adapt your code to use either `displot` (a figure-level function with\n",
      "similar flexibility) or `histplot` (an axes-level function for histograms).\n",
      "\n",
      "For a guide to updating your code to use the new functions, please see\n",
      "https://gist.github.com/mwaskom/de44147ed2974457ad6372750bbe5751\n",
      "\n",
      "  sns.distplot(df['product_weight_g'], bins=25) # Shows extreme values\n"
     ]
    },
    {
     "data": {
      "text/plain": [
       "<Axes: xlabel='product_weight_g', ylabel='Density'>"
      ]
     },
     "execution_count": 24,
     "metadata": {},
     "output_type": "execute_result"
    },
    {
     "data": {
      "image/png": "[encoded data removed]",
      "text/plain": [
       "<Figure size 640x480 with 1 Axes>"
      ]
     },
     "metadata": {},
     "output_type": "display_data"
    }
   ],
   "source": [
    "sns.distplot(df['product_weight_g'], bins=25) # Shows extreme values\n",
    "\n",
    "# no outliers"
   ]
  },
  {
   "cell_type": "code",
   "execution_count": 25,
   "id": "7d298391",
   "metadata": {},
   "outputs": [
    {
     "data": {
      "text/plain": [
       "2276.839231892614"
      ]
     },
     "execution_count": 25,
     "metadata": {},
     "output_type": "execute_result"
    }
   ],
   "source": [
    "df['product_weight_g'].mean() # Check the mean"
   ]
  },
  {
   "cell_type": "code",
   "execution_count": 26,
   "id": "909275be",
   "metadata": {},
   "outputs": [
    {
     "data": {
      "text/plain": [
       "700.0"
      ]
     },
     "execution_count": 26,
     "metadata": {},
     "output_type": "execute_result"
    }
   ],
   "source": [
    "df['product_weight_g'].median() # Check the median"
   ]
  },
  {
   "cell_type": "code",
   "execution_count": 27,
   "id": "910557db",
   "metadata": {},
   "outputs": [
    {
     "data": {
      "text/plain": [
       "40425.0"
      ]
     },
     "execution_count": 27,
     "metadata": {},
     "output_type": "execute_result"
    }
   ],
   "source": [
    "df['product_weight_g'].max() # Check the max"
   ]
  },
  {
   "cell_type": "markdown",
   "id": "0ed7efc1",
   "metadata": {},
   "source": [
    "# 05. Data prep for regression analysis"
   ]
  },
  {
   "cell_type": "code",
   "execution_count": 28,
   "id": "62c49949",
   "metadata": {
    "scrolled": false
   },
   "outputs": [
    {
     "data": {
      "image/png": "[encoded data removed]",
      "text/plain": [
       "<Figure size 640x480 with 1 Axes>"
      ]
     },
     "metadata": {},
     "output_type": "display_data"
    }
   ],
   "source": [
    "# Create a scatterplot using matplotlib for another look at how the chosen variables plot against each other.\n",
    "\n",
    "df.plot(x = 'product_weight_g', y='item_shipping_cost',style='o') # The style option creates a scatterplot; without it, we only have lines.\n",
    "plt.title('Product weight vs Shipping fee')  \n",
    "plt.xlabel('product_weight_g')  \n",
    "plt.ylabel('item_shipping_cost')  \n",
    "plt.show()"
   ]
  },
  {
   "cell_type": "code",
   "execution_count": 29,
   "id": "dffeadd0",
   "metadata": {},
   "outputs": [],
   "source": [
    "# Reshape the variables into NumPy arrays and put them into separate objects.\n",
    "\n",
    "X = df['product_weight_g'].values.reshape(-1,1)\n",
    "y = df['item_shipping_cost'].values.reshape(-1,1)"
   ]
  },
  {
   "cell_type": "code",
   "execution_count": 30,
   "id": "eda3463d",
   "metadata": {},
   "outputs": [
    {
     "data": {
      "text/plain": [
       "array([[ 300.],\n",
       "       [1225.],\n",
       "       [ 300.],\n",
       "       ...,\n",
       "       [ 150.],\n",
       "       [ 150.],\n",
       "       [3900.]])"
      ]
     },
     "execution_count": 30,
     "metadata": {},
     "output_type": "execute_result"
    }
   ],
   "source": [
    "X"
   ]
  },
  {
   "cell_type": "code",
   "execution_count": 31,
   "id": "4e4a456b",
   "metadata": {},
   "outputs": [
    {
     "data": {
      "text/plain": [
       "array([[18.59 ],\n",
       "       [13.93 ],\n",
       "       [13.1  ],\n",
       "       ...,\n",
       "       [11.85 ],\n",
       "       [11.774],\n",
       "       [53.88 ]])"
      ]
     },
     "execution_count": 31,
     "metadata": {},
     "output_type": "execute_result"
    }
   ],
   "source": [
    "y"
   ]
  },
  {
   "cell_type": "code",
   "execution_count": 32,
   "id": "63c07774",
   "metadata": {},
   "outputs": [],
   "source": [
    "# Split data into a training set and a test set.\n",
    "\n",
    "X_train, X_test, y_train, y_test = train_test_split(X, y, test_size=0.3, random_state=0)"
   ]
  },
  {
   "cell_type": "markdown",
   "id": "52e3c6ae",
   "metadata": {},
   "source": [
    "# 06. Regression analysis"
   ]
  },
  {
   "cell_type": "markdown",
   "id": "fccf9fcb",
   "metadata": {},
   "source": [
    "## Hypothesis: The heavier the product, the higher the shipping cost"
   ]
  },
  {
   "cell_type": "code",
   "execution_count": 33,
   "id": "263756e3",
   "metadata": {},
   "outputs": [],
   "source": [
    "# Create a regression object.\n",
    "\n",
    "regression = LinearRegression()  # This is the regression object, which will be fit onto the training set."
   ]
  },
  {
   "cell_type": "code",
   "execution_count": 34,
   "id": "b65c8147",
   "metadata": {},
   "outputs": [
    {
     "data": {
      "text/html": [
       "<style>#sk-container-id-1 {color: black;background-color: white;}#sk-container-id-1 pre{padding: 0;}#sk-container-id-1 div.sk-toggleable {background-color: white;}#sk-container-id-1 label.sk-toggleable__label {cursor: pointer;display: block;width: 100%;margin-bottom: 0;padding: 0.3em;box-sizing: border-box;text-align: center;}#sk-container-id-1 label.sk-toggleable__label-arrow:before {content: \"▸\";float: left;margin-right: 0.25em;color: #696969;}#sk-container-id-1 label.sk-toggleable__label-arrow:hover:before {color: black;}#sk-container-id-1 div.sk-estimator:hover label.sk-toggleable__label-arrow:before {color: black;}#sk-container-id-1 div.sk-toggleable__content {max-height: 0;max-width: 0;overflow: hidden;text-align: left;background-color: #f0f8ff;}#sk-container-id-1 div.sk-toggleable__content pre {margin: 0.2em;color: black;border-radius: 0.25em;background-color: #f0f8ff;}#sk-container-id-1 input.sk-toggleable__control:checked~div.sk-toggleable__content {max-height: 200px;max-width: 100%;overflow: auto;}#sk-container-id-1 input.sk-toggleable__control:checked~label.sk-toggleable__label-arrow:before {content: \"▾\";}#sk-container-id-1 div.sk-estimator input.sk-toggleable__control:checked~label.sk-toggleable__label {background-color: #d4ebff;}#sk-container-id-1 div.sk-label input.sk-toggleable__control:checked~label.sk-toggleable__label {background-color: #d4ebff;}#sk-container-id-1 input.sk-hidden--visually {border: 0;clip: rect(1px 1px 1px 1px);clip: rect(1px, 1px, 1px, 1px);height: 1px;margin: -1px;overflow: hidden;padding: 0;position: absolute;width: 1px;}#sk-container-id-1 div.sk-estimator {font-family: monospace;background-color: #f0f8ff;border: 1px dotted black;border-radius: 0.25em;box-sizing: border-box;margin-bottom: 0.5em;}#sk-container-id-1 div.sk-estimator:hover {background-color: #d4ebff;}#sk-container-id-1 div.sk-parallel-item::after {content: \"\";width: 100%;border-bottom: 1px solid gray;flex-grow: 1;}#sk-container-id-1 div.sk-label:hover label.sk-toggleable__label {background-color: #d4ebff;}#sk-container-id-1 div.sk-serial::before {content: \"\";position: absolute;border-left: 1px solid gray;box-sizing: border-box;top: 0;bottom: 0;left: 50%;z-index: 0;}#sk-container-id-1 div.sk-serial {display: flex;flex-direction: column;align-items: center;background-color: white;padding-right: 0.2em;padding-left: 0.2em;position: relative;}#sk-container-id-1 div.sk-item {position: relative;z-index: 1;}#sk-container-id-1 div.sk-parallel {display: flex;align-items: stretch;justify-content: center;background-color: white;position: relative;}#sk-container-id-1 div.sk-item::before, #sk-container-id-1 div.sk-parallel-item::before {content: \"\";position: absolute;border-left: 1px solid gray;box-sizing: border-box;top: 0;bottom: 0;left: 50%;z-index: -1;}#sk-container-id-1 div.sk-parallel-item {display: flex;flex-direction: column;z-index: 1;position: relative;background-color: white;}#sk-container-id-1 div.sk-parallel-item:first-child::after {align-self: flex-end;width: 50%;}#sk-container-id-1 div.sk-parallel-item:last-child::after {align-self: flex-start;width: 50%;}#sk-container-id-1 div.sk-parallel-item:only-child::after {width: 0;}#sk-container-id-1 div.sk-dashed-wrapped {border: 1px dashed gray;margin: 0 0.4em 0.5em 0.4em;box-sizing: border-box;padding-bottom: 0.4em;background-color: white;}#sk-container-id-1 div.sk-label label {font-family: monospace;font-weight: bold;display: inline-block;line-height: 1.2em;}#sk-container-id-1 div.sk-label-container {text-align: center;}#sk-container-id-1 div.sk-container {/* jupyter's `normalize.less` sets `[hidden] { display: none; }` but bootstrap.min.css set `[hidden] { display: none !important; }` so we also need the `!important` here to be able to override the default hidden behavior on the sphinx rendered scikit-learn.org. See: https://github.com/scikit-learn/scikit-learn/issues/21755 */display: inline-block !important;position: relative;}#sk-container-id-1 div.sk-text-repr-fallback {display: none;}</style><div id=\"sk-container-id-1\" class=\"sk-top-container\"><div class=\"sk-text-repr-fallback\"><pre>LinearRegression()</pre><b>In a Jupyter environment, please rerun this cell to show the HTML representation or trust the notebook. <br />On GitHub, the HTML representation is unable to render, please try loading this page with nbviewer.org.</b></div><div class=\"sk-container\" hidden><div class=\"sk-item\"><div class=\"sk-estimator sk-toggleable\"><input class=\"sk-toggleable__control sk-hidden--visually\" id=\"sk-estimator-id-1\" type=\"checkbox\" checked><label for=\"sk-estimator-id-1\" class=\"sk-toggleable__label sk-toggleable__label-arrow\">LinearRegression</label><div class=\"sk-toggleable__content\"><pre>LinearRegression()</pre></div></div></div></div></div>"
      ],
      "text/plain": [
       "LinearRegression()"
      ]
     },
     "execution_count": 34,
     "metadata": {},
     "output_type": "execute_result"
    }
   ],
   "source": [
    "# Fit the regression object onto the training set.\n",
    "\n",
    "regression.fit(X_train, y_train)"
   ]
  },
  {
   "cell_type": "code",
   "execution_count": 35,
   "id": "58e0eaac",
   "metadata": {},
   "outputs": [],
   "source": [
    "# Predict the values of y using X.\n",
    "\n",
    "y_predicted = regression.predict(X_test)"
   ]
  },
  {
   "cell_type": "code",
   "execution_count": 36,
   "id": "4b4d8f4b",
   "metadata": {},
   "outputs": [
    {
     "data": {
      "image/png": "[encoded data removed]",
      "text/plain": [
       "<Figure size 640x480 with 1 Axes>"
      ]
     },
     "metadata": {},
     "output_type": "display_data"
    }
   ],
   "source": [
    "# Create a plot that shows the regression line from the model on the test set.\n",
    "\n",
    "plot_test = plt\n",
    "plot_test.scatter(X_test, y_test, color='gray', s = 15)\n",
    "plot_test.plot(X_test, y_predicted, color='red', linewidth =3)\n",
    "plot_test.title('Product weight vs Shipping fee (Test set)')\n",
    "plot_test.xlabel('product_weight_g')\n",
    "plot_test.ylabel('item_shipping_cost')\n",
    "plot_test.show()"
   ]
  },
  {
   "cell_type": "markdown",
   "id": "e93ee77f",
   "metadata": {},
   "source": [
    "### The linear model represented by the red regression line doesn’t perfectly cover all of the data points. For instance, the heaviest products have both high and low shipping costs."
   ]
  },
  {
   "cell_type": "code",
   "execution_count": 37,
   "id": "d5cf1902",
   "metadata": {},
   "outputs": [],
   "source": [
    "# Create objects that contain the model summary statistics.\n",
    "\n",
    "rmse = mean_squared_error(y_test, y_predicted) # This is the mean squared error\n",
    "r2 = r2_score(y_test, y_predicted) # This is the R2 score. "
   ]
  },
  {
   "cell_type": "code",
   "execution_count": 38,
   "id": "dd160c19",
   "metadata": {},
   "outputs": [
    {
     "name": "stdout",
     "output_type": "stream",
     "text": [
      "Slope: [[0.00279981]]\n",
      "Mean squared error:  167.88250761640958\n",
      "R2 score:  0.4766030108019996\n"
     ]
    }
   ],
   "source": [
    "# Print the model summary statistics. This is where you evaluate the performance of the model.\n",
    "\n",
    "print('Slope:' ,regression.coef_)\n",
    "print('Mean squared error: ', rmse)\n",
    "print('R2 score: ', r2)"
   ]
  },
  {
   "cell_type": "markdown",
   "id": "57c519ca",
   "metadata": {},
   "source": [
    "### Slope: the slope shows there's a weak positive relationship between vairables. The slope here means as the weight increases, the cost of shipping slightly increases at a degree of 0.0027.\n",
    "### MSE: the root mean squared error is large, indicating that the data points are far away from the regression line.  It’s safe to say that a regression may not be the best model to represent this data and can’t accurately predict the influence of product weight on the shipping cost.\n",
    "### R2 score: the 47% score indicates that the model is not a great fit."
   ]
  },
  {
   "cell_type": "code",
   "execution_count": 39,
   "id": "53252e16",
   "metadata": {},
   "outputs": [
    {
     "data": {
      "text/plain": [
       "array([[15.17759226],\n",
       "       [15.17759226],\n",
       "       [16.85747753],\n",
       "       ...,\n",
       "       [16.71748709],\n",
       "       [31.27649281],\n",
       "       [15.52756836]])"
      ]
     },
     "execution_count": 39,
     "metadata": {},
     "output_type": "execute_result"
    }
   ],
   "source": [
    "y_predicted"
   ]
  },
  {
   "cell_type": "code",
   "execution_count": 40,
   "id": "805fb167",
   "metadata": {},
   "outputs": [
    {
     "data": {
      "text/html": [
       "<div>\n",
       "<style scoped>\n",
       "    .dataframe tbody tr th:only-of-type {\n",
       "        vertical-align: middle;\n",
       "    }\n",
       "\n",
       "    .dataframe tbody tr th {\n",
       "        vertical-align: top;\n",
       "    }\n",
       "\n",
       "    .dataframe thead th {\n",
       "        text-align: right;\n",
       "    }\n",
       "</style>\n",
       "<table border=\"1\" class=\"dataframe\">\n",
       "  <thead>\n",
       "    <tr style=\"text-align: right;\">\n",
       "      <th></th>\n",
       "      <th>Actual</th>\n",
       "      <th>Predicted</th>\n",
       "    </tr>\n",
       "  </thead>\n",
       "  <tbody>\n",
       "    <tr>\n",
       "      <th>0</th>\n",
       "      <td>14.520000</td>\n",
       "      <td>15.177592</td>\n",
       "    </tr>\n",
       "    <tr>\n",
       "      <th>1</th>\n",
       "      <td>14.240000</td>\n",
       "      <td>15.177592</td>\n",
       "    </tr>\n",
       "    <tr>\n",
       "      <th>2</th>\n",
       "      <td>8.470000</td>\n",
       "      <td>16.857478</td>\n",
       "    </tr>\n",
       "    <tr>\n",
       "      <th>3</th>\n",
       "      <td>16.730000</td>\n",
       "      <td>16.017535</td>\n",
       "    </tr>\n",
       "    <tr>\n",
       "      <th>4</th>\n",
       "      <td>22.860000</td>\n",
       "      <td>18.117391</td>\n",
       "    </tr>\n",
       "    <tr>\n",
       "      <th>5</th>\n",
       "      <td>16.406667</td>\n",
       "      <td>15.247587</td>\n",
       "    </tr>\n",
       "    <tr>\n",
       "      <th>6</th>\n",
       "      <td>9.270000</td>\n",
       "      <td>18.537363</td>\n",
       "    </tr>\n",
       "    <tr>\n",
       "      <th>7</th>\n",
       "      <td>23.280000</td>\n",
       "      <td>16.308715</td>\n",
       "    </tr>\n",
       "    <tr>\n",
       "      <th>8</th>\n",
       "      <td>28.470000</td>\n",
       "      <td>17.697420</td>\n",
       "    </tr>\n",
       "    <tr>\n",
       "      <th>9</th>\n",
       "      <td>10.760000</td>\n",
       "      <td>16.997468</td>\n",
       "    </tr>\n",
       "    <tr>\n",
       "      <th>10</th>\n",
       "      <td>15.950000</td>\n",
       "      <td>17.697420</td>\n",
       "    </tr>\n",
       "    <tr>\n",
       "      <th>11</th>\n",
       "      <td>51.690000</td>\n",
       "      <td>42.475728</td>\n",
       "    </tr>\n",
       "    <tr>\n",
       "      <th>12</th>\n",
       "      <td>51.010000</td>\n",
       "      <td>58.574629</td>\n",
       "    </tr>\n",
       "    <tr>\n",
       "      <th>13</th>\n",
       "      <td>95.530000</td>\n",
       "      <td>42.475728</td>\n",
       "    </tr>\n",
       "    <tr>\n",
       "      <th>14</th>\n",
       "      <td>20.010000</td>\n",
       "      <td>41.215814</td>\n",
       "    </tr>\n",
       "    <tr>\n",
       "      <th>15</th>\n",
       "      <td>50.090000</td>\n",
       "      <td>59.414571</td>\n",
       "    </tr>\n",
       "    <tr>\n",
       "      <th>16</th>\n",
       "      <td>12.560000</td>\n",
       "      <td>16.857478</td>\n",
       "    </tr>\n",
       "    <tr>\n",
       "      <th>17</th>\n",
       "      <td>19.050000</td>\n",
       "      <td>19.937267</td>\n",
       "    </tr>\n",
       "    <tr>\n",
       "      <th>18</th>\n",
       "      <td>28.335000</td>\n",
       "      <td>22.737076</td>\n",
       "    </tr>\n",
       "    <tr>\n",
       "      <th>19</th>\n",
       "      <td>8.290000</td>\n",
       "      <td>15.457573</td>\n",
       "    </tr>\n",
       "    <tr>\n",
       "      <th>20</th>\n",
       "      <td>18.590000</td>\n",
       "      <td>18.817344</td>\n",
       "    </tr>\n",
       "    <tr>\n",
       "      <th>21</th>\n",
       "      <td>51.620000</td>\n",
       "      <td>15.317583</td>\n",
       "    </tr>\n",
       "    <tr>\n",
       "      <th>22</th>\n",
       "      <td>63.650000</td>\n",
       "      <td>88.392592</td>\n",
       "    </tr>\n",
       "    <tr>\n",
       "      <th>23</th>\n",
       "      <td>14.210000</td>\n",
       "      <td>15.737554</td>\n",
       "    </tr>\n",
       "    <tr>\n",
       "      <th>24</th>\n",
       "      <td>21.110000</td>\n",
       "      <td>15.829948</td>\n",
       "    </tr>\n",
       "    <tr>\n",
       "      <th>25</th>\n",
       "      <td>27.310000</td>\n",
       "      <td>30.064176</td>\n",
       "    </tr>\n",
       "    <tr>\n",
       "      <th>26</th>\n",
       "      <td>27.630000</td>\n",
       "      <td>20.497229</td>\n",
       "    </tr>\n",
       "    <tr>\n",
       "      <th>27</th>\n",
       "      <td>23.210000</td>\n",
       "      <td>46.255470</td>\n",
       "    </tr>\n",
       "    <tr>\n",
       "      <th>28</th>\n",
       "      <td>24.860000</td>\n",
       "      <td>39.885905</td>\n",
       "    </tr>\n",
       "    <tr>\n",
       "      <th>29</th>\n",
       "      <td>52.480000</td>\n",
       "      <td>16.507501</td>\n",
       "    </tr>\n",
       "  </tbody>\n",
       "</table>\n",
       "</div>"
      ],
      "text/plain": [
       "       Actual  Predicted\n",
       "0   14.520000  15.177592\n",
       "1   14.240000  15.177592\n",
       "2    8.470000  16.857478\n",
       "3   16.730000  16.017535\n",
       "4   22.860000  18.117391\n",
       "5   16.406667  15.247587\n",
       "6    9.270000  18.537363\n",
       "7   23.280000  16.308715\n",
       "8   28.470000  17.697420\n",
       "9   10.760000  16.997468\n",
       "10  15.950000  17.697420\n",
       "11  51.690000  42.475728\n",
       "12  51.010000  58.574629\n",
       "13  95.530000  42.475728\n",
       "14  20.010000  41.215814\n",
       "15  50.090000  59.414571\n",
       "16  12.560000  16.857478\n",
       "17  19.050000  19.937267\n",
       "18  28.335000  22.737076\n",
       "19   8.290000  15.457573\n",
       "20  18.590000  18.817344\n",
       "21  51.620000  15.317583\n",
       "22  63.650000  88.392592\n",
       "23  14.210000  15.737554\n",
       "24  21.110000  15.829948\n",
       "25  27.310000  30.064176\n",
       "26  27.630000  20.497229\n",
       "27  23.210000  46.255470\n",
       "28  24.860000  39.885905\n",
       "29  52.480000  16.507501"
      ]
     },
     "execution_count": 40,
     "metadata": {},
     "output_type": "execute_result"
    }
   ],
   "source": [
    "# Create a dataframe comparing the actual and predicted values of y.\n",
    "\n",
    "data = pd.DataFrame({'Actual': y_test.flatten(), 'Predicted': y_predicted.flatten()})\n",
    "data.head(30)"
   ]
  },
  {
   "cell_type": "markdown",
   "id": "5d107c8a",
   "metadata": {},
   "source": [
    "### There’s a big difference between the actual and predicted y values. This just adds evidence to the fact that the model isn’t doing a great job of explaining the relationship between the “Product Weight” and “Shipping Cost” variables. The relationship simply doesn’t follow a single, straight regression line "
   ]
  },
  {
   "cell_type": "markdown",
   "id": "ced14647",
   "metadata": {},
   "source": [
    "## Compare how the regression fits the training set"
   ]
  },
  {
   "cell_type": "code",
   "execution_count": 41,
   "id": "b6f43b43",
   "metadata": {},
   "outputs": [],
   "source": [
    "# Predict.\n",
    "\n",
    "y_predicted_train = regression.predict(X_train) # This is predicting X_train!"
   ]
  },
  {
   "cell_type": "code",
   "execution_count": 42,
   "id": "aba80672",
   "metadata": {},
   "outputs": [],
   "source": [
    "rmse = mean_squared_error(y_train, y_predicted_train)\n",
    "r2 = r2_score(y_train, y_predicted_train)"
   ]
  },
  {
   "cell_type": "code",
   "execution_count": 43,
   "id": "a29c17ff",
   "metadata": {},
   "outputs": [
    {
     "name": "stdout",
     "output_type": "stream",
     "text": [
      "Slope: [[0.00279981]]\n",
      "Mean squared error:  190.19928083164507\n",
      "R2 score:  0.4256650889356617\n"
     ]
    }
   ],
   "source": [
    "print('Slope:' ,regression.coef_)\n",
    "print('Mean squared error: ', rmse)\n",
    "print('R2 score: ', r2)"
   ]
  },
  {
   "cell_type": "code",
   "execution_count": 44,
   "id": "b18cb4ac",
   "metadata": {},
   "outputs": [
    {
     "data": {
      "image/png": "[encoded data removed]",
      "text/plain": [
       "<Figure size 640x480 with 1 Axes>"
      ]
     },
     "metadata": {},
     "output_type": "display_data"
    }
   ],
   "source": [
    "# Visualizing the training set results.\n",
    "\n",
    "plot_test = plt\n",
    "plot_test.scatter(X_train, y_train, color='green', s = 15)\n",
    "plot_test.plot(X_train, y_predicted_train, color='red', linewidth =3)\n",
    "plot_test.title('Product weight vs Shipping fee (Train set)')\n",
    "plot_test.xlabel('product_weight_g')\n",
    "plot_test.ylabel('item_shipping_cost')\n",
    "plot_test.show()"
   ]
  },
  {
   "cell_type": "code",
   "execution_count": null,
   "id": "f8a30543",
   "metadata": {},
   "outputs": [],
   "source": []
  }
 ],
 "metadata": {
  "kernelspec": {
   "display_name": "Python 3 (ipykernel)",
   "language": "python",
   "name": "python3"
  },
  "language_info": {
   "codemirror_mode": {
    "name": "ipython",
    "version": 3
   },
   "file_extension": ".py",
   "mimetype": "text/x-python",
   "name": "python",
   "nbconvert_exporter": "python",
   "pygments_lexer": "ipython3",
   "version": "3.11.3"
  }
 },
 "nbformat": 4,
 "nbformat_minor": 5
}
